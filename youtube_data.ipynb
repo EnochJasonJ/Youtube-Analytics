{
 "cells": [
  {
   "cell_type": "code",
   "id": "initial_id",
   "metadata": {
    "collapsed": true,
    "ExecuteTime": {
     "end_time": "2025-04-18T15:51:12.801759Z",
     "start_time": "2025-04-18T15:51:12.799067Z"
    }
   },
   "source": "print(\"Hello\")",
   "outputs": [
    {
     "name": "stdout",
     "output_type": "stream",
     "text": [
      "Hello\n"
     ]
    }
   ],
   "execution_count": 1
  },
  {
   "metadata": {
    "ExecuteTime": {
     "end_time": "2025-04-18T15:53:23.946247Z",
     "start_time": "2025-04-18T15:53:15.327409Z"
    }
   },
   "cell_type": "code",
   "source": [
    "import numpy as np\n",
    "import pandas as pd"
   ],
   "id": "a7eeaac2d11595ff",
   "outputs": [],
   "execution_count": 4
  },
  {
   "metadata": {
    "ExecuteTime": {
     "end_time": "2025-04-18T15:53:44.059764Z",
     "start_time": "2025-04-18T15:53:44.039254Z"
    }
   },
   "cell_type": "code",
   "source": [
    "df = pd.read_csv('youtube_filter_dataset.csv')\n",
    "df.head(5)"
   ],
   "id": "807264511675944c",
   "outputs": [
    {
     "data": {
      "text/plain": [
       "                          query                                   title  label\n",
       "0  backend development tutorial             Top Backend Frameworks 2025      1\n",
       "1   web development trends 2025         Top Web Development Trends 2025      1\n",
       "2                  learn python  Python Projects You Should Try in 2025      1\n",
       "3    javascript tips and tricks                  Top 10 JavaScript Tips      1\n",
       "4               AI in education                 Standup Comedy by Rahul      0"
      ],
      "text/html": [
       "<div>\n",
       "<style scoped>\n",
       "    .dataframe tbody tr th:only-of-type {\n",
       "        vertical-align: middle;\n",
       "    }\n",
       "\n",
       "    .dataframe tbody tr th {\n",
       "        vertical-align: top;\n",
       "    }\n",
       "\n",
       "    .dataframe thead th {\n",
       "        text-align: right;\n",
       "    }\n",
       "</style>\n",
       "<table border=\"1\" class=\"dataframe\">\n",
       "  <thead>\n",
       "    <tr style=\"text-align: right;\">\n",
       "      <th></th>\n",
       "      <th>query</th>\n",
       "      <th>title</th>\n",
       "      <th>label</th>\n",
       "    </tr>\n",
       "  </thead>\n",
       "  <tbody>\n",
       "    <tr>\n",
       "      <th>0</th>\n",
       "      <td>backend development tutorial</td>\n",
       "      <td>Top Backend Frameworks 2025</td>\n",
       "      <td>1</td>\n",
       "    </tr>\n",
       "    <tr>\n",
       "      <th>1</th>\n",
       "      <td>web development trends 2025</td>\n",
       "      <td>Top Web Development Trends 2025</td>\n",
       "      <td>1</td>\n",
       "    </tr>\n",
       "    <tr>\n",
       "      <th>2</th>\n",
       "      <td>learn python</td>\n",
       "      <td>Python Projects You Should Try in 2025</td>\n",
       "      <td>1</td>\n",
       "    </tr>\n",
       "    <tr>\n",
       "      <th>3</th>\n",
       "      <td>javascript tips and tricks</td>\n",
       "      <td>Top 10 JavaScript Tips</td>\n",
       "      <td>1</td>\n",
       "    </tr>\n",
       "    <tr>\n",
       "      <th>4</th>\n",
       "      <td>AI in education</td>\n",
       "      <td>Standup Comedy by Rahul</td>\n",
       "      <td>0</td>\n",
       "    </tr>\n",
       "  </tbody>\n",
       "</table>\n",
       "</div>"
      ]
     },
     "execution_count": 7,
     "metadata": {},
     "output_type": "execute_result"
    }
   ],
   "execution_count": 7
  },
  {
   "metadata": {
    "ExecuteTime": {
     "end_time": "2025-04-18T15:57:11.825796Z",
     "start_time": "2025-04-18T15:57:11.822643Z"
    }
   },
   "cell_type": "code",
   "source": "from sklearn.model_selection import train_test_split",
   "id": "55778c62e218379",
   "outputs": [],
   "execution_count": 10
  },
  {
   "metadata": {
    "ExecuteTime": {
     "end_time": "2025-04-18T15:58:08.019235Z",
     "start_time": "2025-04-18T15:58:07.985138Z"
    }
   },
   "cell_type": "code",
   "source": [
    "df[\"text_pair\"] = df[\"query\"]+ \"[SEP]\" + df[\"title\"]\n",
    "X = df[\"text_pair\"]\n",
    "y = df[\"label\"]\n",
    "X_train, X_test, y_train, y_test = train_test_split(X, y, test_size=0.2, random_state=42)"
   ],
   "id": "4eaad4b88606d4b4",
   "outputs": [],
   "execution_count": 12
  },
  {
   "metadata": {
    "ExecuteTime": {
     "end_time": "2025-04-18T16:07:14.208826Z",
     "start_time": "2025-04-18T16:07:14.192924Z"
    }
   },
   "cell_type": "code",
   "source": [
    "from sklearn.feature_extraction.text import TfidfVectorizer\n",
    "from sklearn.linear_model import LogisticRegression\n",
    "from sklearn.pipeline import Pipeline\n",
    "from sklearn.metrics import classification_report, accuracy_score"
   ],
   "id": "8d298b274103a02b",
   "outputs": [],
   "execution_count": 17
  },
  {
   "metadata": {
    "ExecuteTime": {
     "end_time": "2025-04-18T16:07:35.268374Z",
     "start_time": "2025-04-18T16:07:35.172513Z"
    }
   },
   "cell_type": "code",
   "source": [
    "model = Pipeline([\n",
    "    (\"tfidf\",TfidfVectorizer()),\n",
    "    (\"clf\",LogisticRegression())\n",
    "])\n",
    "model.fit(X_train, y_train)\n",
    "y_pred = model.predict(X_test)\n",
    "print(f\"Accuracy: {accuracy_score(y_test, y_pred)}\")\n",
    "print(f\"Classification Report: {classification_report(y_test, y_pred)}\")"
   ],
   "id": "365c98c22cb14dc1",
   "outputs": [
    {
     "name": "stdout",
     "output_type": "stream",
     "text": [
      "Accuracy: 1.0\n",
      "Classification Report:               precision    recall  f1-score   support\n",
      "\n",
      "           0       1.00      1.00      1.00        93\n",
      "           1       1.00      1.00      1.00       107\n",
      "\n",
      "    accuracy                           1.00       200\n",
      "   macro avg       1.00      1.00      1.00       200\n",
      "weighted avg       1.00      1.00      1.00       200\n",
      "\n"
     ]
    }
   ],
   "execution_count": 18
  },
  {
   "metadata": {
    "ExecuteTime": {
     "end_time": "2025-04-18T16:12:08.026751Z",
     "start_time": "2025-04-18T16:12:08.011185Z"
    }
   },
   "cell_type": "code",
   "source": [
    "query = \"India China War\"\n",
    "title = \"Java tutorial\"\n",
    "input_query = query + \"[SEP]\" + title\n",
    "print(model.predict([input_query]))"
   ],
   "id": "2dfc6920446a2a9b",
   "outputs": [
    {
     "name": "stdout",
     "output_type": "stream",
     "text": [
      "[1]\n"
     ]
    }
   ],
   "execution_count": 22
  },
  {
   "metadata": {},
   "cell_type": "code",
   "outputs": [],
   "execution_count": null,
   "source": "",
   "id": "e0846c4ebd665939"
  }
 ],
 "metadata": {
  "kernelspec": {
   "display_name": "Python 3",
   "language": "python",
   "name": "python3"
  },
  "language_info": {
   "codemirror_mode": {
    "name": "ipython",
    "version": 2
   },
   "file_extension": ".py",
   "mimetype": "text/x-python",
   "name": "python",
   "nbconvert_exporter": "python",
   "pygments_lexer": "ipython2",
   "version": "2.7.6"
  }
 },
 "nbformat": 4,
 "nbformat_minor": 5
}
